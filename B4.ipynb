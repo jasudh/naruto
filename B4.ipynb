{
 "cells": [
  {
   "cell_type": "code",
   "execution_count": null,
   "id": "7d56f892",
   "metadata": {},
   "outputs": [],
   "source": [
    "import pandas as pd\n",
    "import matplotlib.pyplot as plt\n",
    "import seaborn as sns\n",
    "from sklearn.model_selection import train_test_split\n",
    "from sklearn.metrics import classification_report,confusion_matrix,accuracy_score\n",
    "from sklearn.preprocessing import LabelEncoder\n",
    "from sklearn.ensemble import RandomForestClassifier\n",
    "from sklearn.svm import SVC\n",
    "\n",
    "df = pd.read_csv(\"METABRIC_RNA_Mutation.csv\").set_index('patient_id')\n",
    "\n",
    "x=df.iloc[:,30:519]\n",
    "y=LabelEncoder().fit_transform(df['overall_survival'])\n",
    "x_train,x_test,y_train,y_test = train_test_split(x,y,test_size=0.3,random_state=42)\n",
    "\n",
    "models = {\n",
    "    'random forest':RandomForestClassifier(random_state=42),\n",
    "    'svm':SVC(probability=True)\n",
    "}\n",
    "results={}\n",
    "\n",
    "for name,model in models.items():\n",
    "    model.fit(x_train,y_train)\n",
    "    y_pred = model.predict(x_test)\n",
    "    results[name] = accuracy_score(y_test,y_pred)\n",
    "    \n",
    "    print(f'-----{name} result------')\n",
    "    print(classification_report(y_test,y_pred))\n",
    "    \n",
    "    sns.heatmap(confusion_matrix(y_test,y_pred),annot=True,fmt='d',cmap='BuPu')\n",
    "    plt.title(f'confuion matrix-{name}')\n",
    "    plt.show()\n",
    "\n",
    "rf_model = models['random forest']  # Get the trained Random Forest model\n",
    "features = x.columns[:10]  \n",
    "importances = rf_model.feature_importances_[:10]\n",
    "\n",
    "# Plotting without DataFrame\n",
    "plt.bar(features, importances,color='skyblue')\n",
    "plt.title('Top 10 Important Genes')\n",
    "plt.xticks(rotation=45)\n",
    "plt.show()\n",
    "\n",
    "plt.bar(results.keys(),results.values(),color='skyblue')\n",
    "plt.title('model accuracy comparison')\n",
    "plt.ylabel(\"Accuracy\")\n",
    "plt.show()\n",
    "    "
   ]
  }
 ],
 "metadata": {
  "kernelspec": {
   "display_name": "Python 3 (ipykernel)",
   "language": "python",
   "name": "python3"
  },
  "language_info": {
   "codemirror_mode": {
    "name": "ipython",
    "version": 3
   },
   "file_extension": ".py",
   "mimetype": "text/x-python",
   "name": "python",
   "nbconvert_exporter": "python",
   "pygments_lexer": "ipython3",
   "version": "3.10.4"
  }
 },
 "nbformat": 4,
 "nbformat_minor": 5
}
