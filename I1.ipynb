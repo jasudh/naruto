{
 "cells": [
  {
   "cell_type": "code",
   "execution_count": 1,
   "id": "d8b11dad",
   "metadata": {},
   "outputs": [
    {
     "name": "stderr",
     "output_type": "stream",
     "text": [
      "C:\\Users\\kolek\\AppData\\Local\\Programs\\Python\\Python310\\lib\\site-packages\\scipy\\__init__.py:146: UserWarning: A NumPy version >=1.17.3 and <1.25.0 is required for this version of SciPy (detected version 1.26.4\n",
      "  warnings.warn(f\"A NumPy version >={np_minversion} and <{np_maxversion}\"\n"
     ]
    }
   ],
   "source": [
    "import nltk\n",
    "from nltk.corpus import stopwords\n",
    "from nltk.stem import PorterStemmer\n",
    "from nltk.tokenize import word_tokenize\n",
    "import re"
   ]
  },
  {
   "cell_type": "code",
   "execution_count": 2,
   "id": "e07c3a4d",
   "metadata": {},
   "outputs": [
    {
     "name": "stderr",
     "output_type": "stream",
     "text": [
      "[nltk_data] Downloading package stopwords to\n",
      "[nltk_data]     C:\\Users\\kolek\\AppData\\Roaming\\nltk_data...\n",
      "[nltk_data]   Package stopwords is already up-to-date!\n",
      "[nltk_data] Downloading package punkt to\n",
      "[nltk_data]     C:\\Users\\kolek\\AppData\\Roaming\\nltk_data...\n",
      "[nltk_data]   Package punkt is already up-to-date!\n"
     ]
    },
    {
     "data": {
      "text/plain": [
       "True"
      ]
     },
     "execution_count": 2,
     "metadata": {},
     "output_type": "execute_result"
    }
   ],
   "source": [
    "nltk.download('stopwords')\n",
    "nltk.download('punkt')"
   ]
  },
  {
   "cell_type": "code",
   "execution_count": 3,
   "id": "8f6e6b36",
   "metadata": {},
   "outputs": [],
   "source": [
    "text = \"\"\" Information Retrieval (IR) is the process of obtaining relevant information from a large repository based on a user’s query. The primary goal of IR is to help users find information that meets their needs by ranking documents according to relevance. Document processing in IR involves tasks like tokenization, stop word removal, and stemming to improve retrieval. Information Retrieval indexing structures, such as inverted indexes, allow rapid access to document lists based on keywords. User queries in IR are transformed into a vector format to facilitate comparison with document vectors. Retrieval and ranking in IR rely on methods like cosine similarity, TF-IDF, and probabilistic models.\"\"\""
   ]
  },
  {
   "cell_type": "code",
   "execution_count": 4,
   "id": "cac2b899",
   "metadata": {},
   "outputs": [
    {
     "data": {
      "text/plain": [
       "' Information Retrieval (IR) is the process of obtaining relevant information from a large repository based on a user’s query. The primary goal of IR is to help users find information that meets their needs by ranking documents according to relevance. Document processing in IR involves tasks like tokenization, stop word removal, and stemming to improve retrieval. Information Retrieval indexing structures, such as inverted indexes, allow rapid access to document lists based on keywords. User queries in IR are transformed into a vector format to facilitate comparison with document vectors. Retrieval and ranking in IR rely on methods like cosine similarity, TF-IDF, and probabilistic models.'"
      ]
     },
     "execution_count": 4,
     "metadata": {},
     "output_type": "execute_result"
    }
   ],
   "source": [
    "text"
   ]
  },
  {
   "cell_type": "code",
   "execution_count": 5,
   "id": "8d40cdc1",
   "metadata": {},
   "outputs": [
    {
     "data": {
      "text/plain": [
       "' information retrieval (ir) is the process of obtaining relevant information from a large repository based on a user’s query. the primary goal of ir is to help users find information that meets their needs by ranking documents according to relevance. document processing in ir involves tasks like tokenization, stop word removal, and stemming to improve retrieval. information retrieval indexing structures, such as inverted indexes, allow rapid access to document lists based on keywords. user queries in ir are transformed into a vector format to facilitate comparison with document vectors. retrieval and ranking in ir rely on methods like cosine similarity, tf-idf, and probabilistic models.'"
      ]
     },
     "execution_count": 5,
     "metadata": {},
     "output_type": "execute_result"
    }
   ],
   "source": [
    "text_lower = text.lower()\n",
    "text_lower"
   ]
  },
  {
   "cell_type": "code",
   "execution_count": 6,
   "id": "16dfd483",
   "metadata": {},
   "outputs": [
    {
     "data": {
      "text/plain": [
       "' information retrieval ir is the process of obtaining relevant information from a large repository based on a users query the primary goal of ir is to help users find information that meets their needs by ranking documents according to relevance document processing in ir involves tasks like tokenization stop word removal and stemming to improve retrieval information retrieval indexing structures such as inverted indexes allow rapid access to document lists based on keywords user queries in ir are transformed into a vector format to facilitate comparison with document vectors retrieval and ranking in ir rely on methods like cosine similarity tfidf and probabilistic models'"
      ]
     },
     "execution_count": 6,
     "metadata": {},
     "output_type": "execute_result"
    }
   ],
   "source": [
    "text_no_specials = re.sub(r'[^a-z\\s]','',text_lower)\n",
    "text_no_specials"
   ]
  },
  {
   "cell_type": "code",
   "execution_count": 7,
   "id": "952eb1a6",
   "metadata": {},
   "outputs": [
    {
     "data": {
      "text/plain": [
       "['information',\n",
       " 'retrieval',\n",
       " 'ir',\n",
       " 'is',\n",
       " 'the',\n",
       " 'process',\n",
       " 'of',\n",
       " 'obtaining',\n",
       " 'relevant',\n",
       " 'information',\n",
       " 'from',\n",
       " 'a',\n",
       " 'large',\n",
       " 'repository',\n",
       " 'based',\n",
       " 'on',\n",
       " 'a',\n",
       " 'users',\n",
       " 'query',\n",
       " 'the',\n",
       " 'primary',\n",
       " 'goal',\n",
       " 'of',\n",
       " 'ir',\n",
       " 'is',\n",
       " 'to',\n",
       " 'help',\n",
       " 'users',\n",
       " 'find',\n",
       " 'information',\n",
       " 'that',\n",
       " 'meets',\n",
       " 'their',\n",
       " 'needs',\n",
       " 'by',\n",
       " 'ranking',\n",
       " 'documents',\n",
       " 'according',\n",
       " 'to',\n",
       " 'relevance',\n",
       " 'document',\n",
       " 'processing',\n",
       " 'in',\n",
       " 'ir',\n",
       " 'involves',\n",
       " 'tasks',\n",
       " 'like',\n",
       " 'tokenization',\n",
       " 'stop',\n",
       " 'word',\n",
       " 'removal',\n",
       " 'and',\n",
       " 'stemming',\n",
       " 'to',\n",
       " 'improve',\n",
       " 'retrieval',\n",
       " 'information',\n",
       " 'retrieval',\n",
       " 'indexing',\n",
       " 'structures',\n",
       " 'such',\n",
       " 'as',\n",
       " 'inverted',\n",
       " 'indexes',\n",
       " 'allow',\n",
       " 'rapid',\n",
       " 'access',\n",
       " 'to',\n",
       " 'document',\n",
       " 'lists',\n",
       " 'based',\n",
       " 'on',\n",
       " 'keywords',\n",
       " 'user',\n",
       " 'queries',\n",
       " 'in',\n",
       " 'ir',\n",
       " 'are',\n",
       " 'transformed',\n",
       " 'into',\n",
       " 'a',\n",
       " 'vector',\n",
       " 'format',\n",
       " 'to',\n",
       " 'facilitate',\n",
       " 'comparison',\n",
       " 'with',\n",
       " 'document',\n",
       " 'vectors',\n",
       " 'retrieval',\n",
       " 'and',\n",
       " 'ranking',\n",
       " 'in',\n",
       " 'ir',\n",
       " 'rely',\n",
       " 'on',\n",
       " 'methods',\n",
       " 'like',\n",
       " 'cosine',\n",
       " 'similarity',\n",
       " 'tfidf',\n",
       " 'and',\n",
       " 'probabilistic',\n",
       " 'models']"
      ]
     },
     "execution_count": 7,
     "metadata": {},
     "output_type": "execute_result"
    }
   ],
   "source": [
    "words = word_tokenize(text_no_specials)\n",
    "words"
   ]
  },
  {
   "cell_type": "code",
   "execution_count": 8,
   "id": "61178123",
   "metadata": {},
   "outputs": [
    {
     "data": {
      "text/plain": [
       "['information',\n",
       " 'retrieval',\n",
       " 'ir',\n",
       " 'process',\n",
       " 'obtaining',\n",
       " 'relevant',\n",
       " 'information',\n",
       " 'large',\n",
       " 'repository',\n",
       " 'based',\n",
       " 'users',\n",
       " 'query',\n",
       " 'primary',\n",
       " 'goal',\n",
       " 'ir',\n",
       " 'help',\n",
       " 'users',\n",
       " 'find',\n",
       " 'information',\n",
       " 'meets',\n",
       " 'needs',\n",
       " 'ranking',\n",
       " 'documents',\n",
       " 'according',\n",
       " 'relevance',\n",
       " 'document',\n",
       " 'processing',\n",
       " 'ir',\n",
       " 'involves',\n",
       " 'tasks',\n",
       " 'like',\n",
       " 'tokenization',\n",
       " 'stop',\n",
       " 'word',\n",
       " 'removal',\n",
       " 'stemming',\n",
       " 'improve',\n",
       " 'retrieval',\n",
       " 'information',\n",
       " 'retrieval',\n",
       " 'indexing',\n",
       " 'structures',\n",
       " 'inverted',\n",
       " 'indexes',\n",
       " 'allow',\n",
       " 'rapid',\n",
       " 'access',\n",
       " 'document',\n",
       " 'lists',\n",
       " 'based',\n",
       " 'keywords',\n",
       " 'user',\n",
       " 'queries',\n",
       " 'ir',\n",
       " 'transformed',\n",
       " 'vector',\n",
       " 'format',\n",
       " 'facilitate',\n",
       " 'comparison',\n",
       " 'document',\n",
       " 'vectors',\n",
       " 'retrieval',\n",
       " 'ranking',\n",
       " 'ir',\n",
       " 'rely',\n",
       " 'methods',\n",
       " 'like',\n",
       " 'cosine',\n",
       " 'similarity',\n",
       " 'tfidf',\n",
       " 'probabilistic',\n",
       " 'models']"
      ]
     },
     "execution_count": 8,
     "metadata": {},
     "output_type": "execute_result"
    }
   ],
   "source": [
    "stop_words = set(stopwords.words('english'))\n",
    "no_stopwords = [word for word in words if word not in stop_words]\n",
    "no_stopwords"
   ]
  },
  {
   "cell_type": "code",
   "execution_count": 9,
   "id": "03ea1419",
   "metadata": {},
   "outputs": [
    {
     "data": {
      "text/plain": [
       "['inform',\n",
       " 'retriev',\n",
       " 'ir',\n",
       " 'process',\n",
       " 'obtain',\n",
       " 'relev',\n",
       " 'inform',\n",
       " 'larg',\n",
       " 'repositori',\n",
       " 'base',\n",
       " 'user',\n",
       " 'queri',\n",
       " 'primari',\n",
       " 'goal',\n",
       " 'ir',\n",
       " 'help',\n",
       " 'user',\n",
       " 'find',\n",
       " 'inform',\n",
       " 'meet',\n",
       " 'need',\n",
       " 'rank',\n",
       " 'document',\n",
       " 'accord',\n",
       " 'relev',\n",
       " 'document',\n",
       " 'process',\n",
       " 'ir',\n",
       " 'involv',\n",
       " 'task',\n",
       " 'like',\n",
       " 'token',\n",
       " 'stop',\n",
       " 'word',\n",
       " 'remov',\n",
       " 'stem',\n",
       " 'improv',\n",
       " 'retriev',\n",
       " 'inform',\n",
       " 'retriev',\n",
       " 'index',\n",
       " 'structur',\n",
       " 'invert',\n",
       " 'index',\n",
       " 'allow',\n",
       " 'rapid',\n",
       " 'access',\n",
       " 'document',\n",
       " 'list',\n",
       " 'base',\n",
       " 'keyword',\n",
       " 'user',\n",
       " 'queri',\n",
       " 'ir',\n",
       " 'transform',\n",
       " 'vector',\n",
       " 'format',\n",
       " 'facilit',\n",
       " 'comparison',\n",
       " 'document',\n",
       " 'vector',\n",
       " 'retriev',\n",
       " 'rank',\n",
       " 'ir',\n",
       " 'reli',\n",
       " 'method',\n",
       " 'like',\n",
       " 'cosin',\n",
       " 'similar',\n",
       " 'tfidf',\n",
       " 'probabilist',\n",
       " 'model']"
      ]
     },
     "execution_count": 9,
     "metadata": {},
     "output_type": "execute_result"
    }
   ],
   "source": [
    "stemmer = PorterStemmer()\n",
    "words_stemmed = [stemmer.stem(word) for word in no_stopwords]\n",
    "words_stemmed"
   ]
  },
  {
   "cell_type": "code",
   "execution_count": null,
   "id": "d9e886d1",
   "metadata": {},
   "outputs": [],
   "source": []
  }
 ],
 "metadata": {
  "kernelspec": {
   "display_name": "Python 3 (ipykernel)",
   "language": "python",
   "name": "python3"
  },
  "language_info": {
   "codemirror_mode": {
    "name": "ipython",
    "version": 3
   },
   "file_extension": ".py",
   "mimetype": "text/x-python",
   "name": "python",
   "nbconvert_exporter": "python",
   "pygments_lexer": "ipython3",
   "version": "3.10.4"
  }
 },
 "nbformat": 4,
 "nbformat_minor": 5
}
